{
  "nbformat": 4,
  "nbformat_minor": 0,
  "metadata": {
    "colab": {
      "name": "assignment3-print a number",
      "provenance": []
    },
    "kernelspec": {
      "name": "python3",
      "display_name": "Python 3"
    }
  },
  "cells": [
    {
      "cell_type": "code",
      "metadata": {
        "id": "QlcfPfvBdpiR",
        "colab_type": "code",
        "colab": {
          "base_uri": "https://localhost:8080/",
          "height": 50
        },
        "outputId": "a4f15b70-5e36-4966-e4e2-718cd70f3fae"
      },
      "source": [
        "n=int(input(\"enter a number in between 1-5:\"))\n",
        "if (n==1):\n",
        "    print(\"one\")\n",
        "elif(n==2):\n",
        "    print(\"two\")\n",
        "elif(n==3):\n",
        "    print(\"three\")\n",
        "elif(n==4):\n",
        "    print(\"four\")\n",
        "elif(n==5):\n",
        "    print(\"five\")\n",
        "else:\n",
        "    print(n,\"is not in between 1-5\")"
      ],
      "execution_count": 23,
      "outputs": [
        {
          "output_type": "stream",
          "text": [
            "enter a number in between 1-5:7\n",
            "7 is not in between 1-5\n"
          ],
          "name": "stdout"
        }
      ]
    }
  ]
}