{
  "nbformat": 4,
  "nbformat_minor": 0,
  "metadata": {
    "colab": {
      "name": "assignment3-roots of a quadratic equation",
      "provenance": [],
      "collapsed_sections": []
    },
    "kernelspec": {
      "name": "python3",
      "display_name": "Python 3"
    }
  },
  "cells": [
    {
      "cell_type": "code",
      "metadata": {
        "id": "xIalAJWyYWxh",
        "colab_type": "code",
        "colab": {
          "base_uri": "https://localhost:8080/",
          "height": 84
        },
        "outputId": "d4e46576-0e6d-446d-9a96-1c9abec39120"
      },
      "source": [
        "a=int(input(\"enter the value of a:\"))\n",
        "b=int(input(\"enter the value of b:\"))\n",
        "c=int(input(\"enter the value of c:\"))\n",
        "discriminant=(b*b)-(4*a*c)\n",
        "if (discriminant>0):\n",
        "   root1=(-b+math.sqrt(discrimimant)/(2*a))\n",
        "   root2=(-b-math.sqrt(discriminant)/(2*a))\n",
        "   print(\"two distinct real roots exists:root1=%2f and root2=%.2f\" %(root1,root2))\n",
        "elif(discriminant==0):\n",
        "   root1=root2= -b/(2*a)\n",
        "   print(\"two equal and real roots exists:root1 %.2f and root2= %.2f\" %(root1,root2))\n",
        "elif(discriminant<0):\n",
        "   root1=root2= -b/(2*a)\n",
        "   imaginary=(-discriminant)/(2*a)\n",
        "   print(root1+imaginary , root2-imaginary)"
      ],
      "execution_count": 4,
      "outputs": [
        {
          "output_type": "stream",
          "text": [
            "enter the value of a:2 \n",
            "enter the value of b:3\n",
            "enter the value of c:2\n",
            "1.0 -2.5\n"
          ],
          "name": "stdout"
        }
      ]
    }
  ]
}