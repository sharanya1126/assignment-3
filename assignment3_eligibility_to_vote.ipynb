{
  "nbformat": 4,
  "nbformat_minor": 0,
  "metadata": {
    "colab": {
      "name": "assignment3-eligibility to vote",
      "provenance": []
    },
    "kernelspec": {
      "name": "python3",
      "display_name": "Python 3"
    }
  },
  "cells": [
    {
      "cell_type": "code",
      "metadata": {
        "id": "4AxIX5J8dYc1",
        "colab_type": "code",
        "colab": {
          "base_uri": "https://localhost:8080/",
          "height": 50
        },
        "outputId": "87d0491e-cdb3-437b-f4e0-f9dfa65b15b4"
      },
      "source": [
        "age=int(input(\"Enter Age:\"))\n",
        "if age>=18:\n",
        "   print(\"eligible to vote\")\n",
        "else:\n",
        "   print(\"not eligible to vote\")"
      ],
      "execution_count": 4,
      "outputs": [
        {
          "output_type": "stream",
          "text": [
            "Enter Age:19\n",
            "eligible to vote\n"
          ],
          "name": "stdout"
        }
      ]
    }
  ]
}