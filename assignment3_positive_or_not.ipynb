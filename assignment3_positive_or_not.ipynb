{
  "nbformat": 4,
  "nbformat_minor": 0,
  "metadata": {
    "colab": {
      "name": "assignment3-positive or not",
      "provenance": []
    },
    "kernelspec": {
      "name": "python3",
      "display_name": "Python 3"
    }
  },
  "cells": [
    {
      "cell_type": "code",
      "metadata": {
        "id": "VHXpRiyoWk6J",
        "colab_type": "code",
        "colab": {
          "base_uri": "https://localhost:8080/",
          "height": 50
        },
        "outputId": "d3673944-7130-4b5a-9dca-70798db1af4f"
      },
      "source": [
        "num=int(input(\"enter a number:\"))\n",
        "if num>0:\n",
        "    print(\"it is a positive number\")\n",
        "else:\n",
        "    print(\"it is a negative number\")"
      ],
      "execution_count": 3,
      "outputs": [
        {
          "output_type": "stream",
          "text": [
            "enter a number:5\n",
            "it is a positive number\n"
          ],
          "name": "stdout"
        }
      ]
    }
  ]
}