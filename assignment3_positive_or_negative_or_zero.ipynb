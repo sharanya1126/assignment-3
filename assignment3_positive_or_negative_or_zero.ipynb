{
  "nbformat": 4,
  "nbformat_minor": 0,
  "metadata": {
    "colab": {
      "name": "assignment3-positive or negative or zero",
      "provenance": []
    },
    "kernelspec": {
      "name": "python3",
      "display_name": "Python 3"
    }
  },
  "cells": [
    {
      "cell_type": "code",
      "metadata": {
        "id": "3o2tHnticSPg",
        "colab_type": "code",
        "colab": {
          "base_uri": "https://localhost:8080/",
          "height": 50
        },
        "outputId": "82aaf75b-82e6-4896-96c2-bcc804c3d740"
      },
      "source": [
        "num=int(input(\"enter a number:\"))\n",
        "if num>=0:\n",
        "  if num==0:\n",
        "    print(\"number entered is zero\") \n",
        "  else:\n",
        "    print(\"number entered is positive \")\n",
        "else:\n",
        "    print(\"number entered is negative\")  \n"
      ],
      "execution_count": 4,
      "outputs": [
        {
          "output_type": "stream",
          "text": [
            "enter a number:0\n",
            "number entered is zero\n"
          ],
          "name": "stdout"
        }
      ]
    }
  ]
}