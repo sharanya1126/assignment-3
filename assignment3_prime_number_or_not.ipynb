{
  "nbformat": 4,
  "nbformat_minor": 0,
  "metadata": {
    "colab": {
      "name": "assignment3-prime number or not",
      "provenance": []
    },
    "kernelspec": {
      "name": "python3",
      "display_name": "Python 3"
    }
  },
  "cells": [
    {
      "cell_type": "code",
      "metadata": {
        "id": "86bSep0gVW_2",
        "colab_type": "code",
        "colab": {
          "base_uri": "https://localhost:8080/",
          "height": 50
        },
        "outputId": "9d59c109-1ca7-4d42-ed48-af41469cdbe8"
      },
      "source": [
        "number=int(input(\"enter a number:\"))\n",
        "if number>1:\n",
        "    for i in range(2,number):\n",
        "      if(number%i)==0:\n",
        "        print(number,\"is not a prime number\")\n",
        "        break\n",
        "    else:\n",
        "      print(number,\"is a prime number\")\n",
        "else:\n",
        "   print(number,\"is not a prime number\")"
      ],
      "execution_count": 4,
      "outputs": [
        {
          "output_type": "stream",
          "text": [
            "enter a number:10\n",
            "10 is not a prime number\n"
          ],
          "name": "stdout"
        }
      ]
    }
  ]
}