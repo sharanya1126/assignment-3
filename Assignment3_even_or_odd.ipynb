{
  "nbformat": 4,
  "nbformat_minor": 0,
  "metadata": {
    "colab": {
      "name": "Assignment3-even or odd",
      "provenance": []
    },
    "kernelspec": {
      "name": "python3",
      "display_name": "Python 3"
    }
  },
  "cells": [
    {
      "cell_type": "code",
      "metadata": {
        "id": "_iJdfsJWgmfD",
        "colab_type": "code",
        "colab": {
          "base_uri": "https://localhost:8080/",
          "height": 50
        },
        "outputId": "6f49a294-bd6b-4f86-9ec0-48bbc6bfe619"
      },
      "source": [
        "num=int(input(\"Enter a number:\"))\n",
        "if(num%2)==0:\n",
        "    print(\"num is even\")\n",
        "else:\n",
        "    print(\"num is odd\")"
      ],
      "execution_count": 1,
      "outputs": [
        {
          "output_type": "stream",
          "text": [
            "Enter a number:5\n",
            "num is odd\n"
          ],
          "name": "stdout"
        }
      ]
    }
  ]
}