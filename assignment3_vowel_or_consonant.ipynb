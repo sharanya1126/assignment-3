{
  "nbformat": 4,
  "nbformat_minor": 0,
  "metadata": {
    "colab": {
      "name": "assignment3-vowel or consonant",
      "provenance": []
    },
    "kernelspec": {
      "name": "python3",
      "display_name": "Python 3"
    }
  },
  "cells": [
    {
      "cell_type": "code",
      "metadata": {
        "id": "YqxhRdg2hMvA",
        "colab_type": "code",
        "colab": {
          "base_uri": "https://localhost:8080/",
          "height": 50
        },
        "outputId": "01fd6e32-0287-4f7a-fed8-14ecffee3c02"
      },
      "source": [
        "ch=input(\"enter a character:\")\n",
        "if ch in ['a','e','i','o','u']:\n",
        "  print(ch,\"is a vowel\")\n",
        "else:\n",
        "  print(ch,\"is a consonant\")"
      ],
      "execution_count": 1,
      "outputs": [
        {
          "output_type": "stream",
          "text": [
            "enter a character:r\n",
            "r is a consonant\n"
          ],
          "name": "stdout"
        }
      ]
    }
  ]
}